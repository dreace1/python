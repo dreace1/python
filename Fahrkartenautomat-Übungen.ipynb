{
 "cells": [
  {
   "cell_type": "markdown",
   "metadata": {},
   "source": [
    "## Strukturiertes Programmieren mit Python 3"
   ]
  },
  {
   "cell_type": "markdown",
   "metadata": {},
   "source": [
    "### Beispiel: Fahrkartenautomat"
   ]
  },
  {
   "cell_type": "code",
   "execution_count": 1,
   "metadata": {},
   "outputs": [
    {
     "name": "stdout",
     "output_type": "stream",
     "text": [
      "Zu zahlender Betrag (EURO): Noch zu zahlen: 5.00\n",
      "Eingabe (mind. 5Ct, höchstens 2 Euro): \n",
      "Fahrschein wird ausgegeben\n",
      "========\n",
      "\n",
      "\n",
      "\n",
      "Vergessen Sie nicht, den Fahrschein\n",
      "vor Fahrtantritt entwerten zu lassen!\n",
      "Wir wünschen Ihnen eine gute Fahrt.\n",
      "\n"
     ]
    }
   ],
   "source": [
    "import time\n",
    "\n",
    "def main(args):\n",
    "\n",
    "    # Fahrkarte wählen (Preis eingeben)\n",
    "    # --------------------------------- \n",
    "    print(\"Zu zahlender Betrag (EURO): \", end = \"\")\n",
    "    zu_zahlender_betrag = float(input())\n",
    "\n",
    "    # Geldeinwurf\n",
    "    # -----------\n",
    "    eingezahlter_gesamtbetrag = 0.0;\n",
    "    while eingezahlter_gesamtbetrag < zu_zahlender_betrag:\n",
    "        print(\"Noch zu zahlen: %.2f\" %(zu_zahlender_betrag - eingezahlter_gesamtbetrag))\n",
    "        print(\"Eingabe (mind. 5Ct, höchstens 2 Euro): \", end = \"\")\n",
    "        eingeworfene_münze = float(input())\n",
    "        eingezahlter_gesamtbetrag += eingeworfene_münze\n",
    "\n",
    "    # Fahrscheinausgabe\n",
    "    # -----------------\n",
    "    print(\"\\nFahrschein wird ausgegeben\")\n",
    "    for i in range(0, 8, 1):\n",
    "        print(\"=\", end = \"\")\n",
    "        time.sleep(0.25)\n",
    "    print(\"\\n\\n\");\n",
    "\n",
    "    # Rückgeldberechnung und -ausgabe\n",
    "    # -------------------------------\n",
    "    rückgabebetrag = eingezahlter_gesamtbetrag - zu_zahlender_betrag;\n",
    "    if rückgabebetrag > 0.0:\n",
    "        print(\"Der Rückgabebetrag in Höhe von %.2f EURO\" %rückgabebetrag)\n",
    "        print(\"wird in folgenden Münzen ausgezahlt:\")\n",
    "\n",
    "        while rückgabebetrag >= 2.0: # 2 EURO-Münzen\n",
    "            print(\"2 EURO\")\n",
    "            rückgabebetrag -= 2.0\n",
    "        while rückgabebetrag >= 1.0: # 1 EURO-Münzen\n",
    "            print(\"1 EURO\")\n",
    "            rückgabebetrag -= 1.0\n",
    "        while rückgabebetrag >= 0.5: # 50 CENT-Münzen\n",
    "            print(\"50 CENT\")\n",
    "            rückgabebetrag -= 0.5\n",
    "        while rückgabebetrag >= 0.2: # 20 CENT-Münzen\n",
    "            print(\"20 CENT\")\n",
    "            rückgabebetrag -= 0.2\n",
    "        while rückgabebetrag >= 0.1: # 10 CENT-Münzen\n",
    "            print(\"10 CENT\")\n",
    "            rückgabebetrag -= 0.1\n",
    "        while rückgabebetrag >= 0.05: # 5 CENT-Münzen\n",
    "            print(\"5 CENT\")\n",
    "            rückgabebetrag -= 0.05\n",
    "      \n",
    "    print(\"\\nVergessen Sie nicht, den Fahrschein\\n\"+\n",
    "          \"vor Fahrtantritt entwerten zu lassen!\\n\"+\n",
    "          \"Wir wünschen Ihnen eine gute Fahrt.\\n\")\n",
    "\n",
    "main(\"\")"
   ]
  },
  {
   "cell_type": "markdown",
   "metadata": {},
   "source": [
    "### Aufgabe:\n",
    " Definieren Sie für die 4 Phasen des Fahrkartenautomaten die Funktionen\n",
    "  - fahrkarte_wählen()\n",
    "  - geld_einwerfen(zu_zahlen)\n",
    "  - fahrkarte_ausgeben() \n",
    "  - rückgeld_ausgeben(rückgabebetrag)"
   ]
  },
  {
   "cell_type": "code",
   "execution_count": 2,
   "metadata": {},
   "outputs": [
    {
     "name": "stdout",
     "output_type": "stream",
     "text": [
      "Zu zahlender Betrag (EURO): Noch zu zahlen: 5.00\n",
      "Eingabe (mind. 5Ct, höchstens 2 Euro): \n",
      "Fahrschein wird ausgegeben\n",
      "========\n",
      "\n",
      "\n",
      "\n",
      "Vergessen Sie nicht, den Fahrschein\n",
      "vor Fahrtantritt entwerten zu lassen!\n",
      "Wir wünschen Ihnen eine gute Fahrt.\n",
      "\n"
     ]
    }
   ],
   "source": [
    "import time\n",
    "\n",
    "def main(args):\n",
    "    fahrkarten_preis = fahrkarte_waehlen()\n",
    "    eingezahlter_gesamtbetrag = geld_einwerfen(fahrkarten_preis)\n",
    "    rueckgeld_ausgeben(eingezahlter_gesamtbetrag, fahrkarten_preis)\n",
    "    \n",
    "\n",
    "def fahrkarte_waehlen():\n",
    "    print(\"Zu zahlender Betrag (EURO): \", end = \"\")\n",
    "    return float(input())\n",
    "\n",
    "def geld_einwerfen(zu_zahlen):\n",
    "    eingezahlter_gesamtbetrag = 0.0;\n",
    "    while eingezahlter_gesamtbetrag < zu_zahlen:\n",
    "        print(\"Noch zu zahlen: %.2f\" %(zu_zahlen - eingezahlter_gesamtbetrag))\n",
    "        print(\"Eingabe (mind. 5Ct, höchstens 2 Euro): \", end = \"\")\n",
    "        eingeworfene_münze = float(input())\n",
    "        eingezahlter_gesamtbetrag += eingeworfene_münze\n",
    "\n",
    "        return eingezahlter_gesamtbetrag\n",
    "\n",
    "def fahrkarte_ausgeben():\n",
    "    print(\"\\nFahrschein wird ausgegeben\")\n",
    "    for i in range(0, 8, 1):\n",
    "        print(\"=\", end = \"\")\n",
    "        time.sleep(0.25)\n",
    "    print(\"\\n\\n\");\n",
    "\n",
    "def rueckgeld_ausgeben(eingezahlter_gesamtbetrag, fahrkarten_preis):\n",
    "    rueckgabebetrag = eingezahlter_gesamtbetrag - fahrkarten_preis\n",
    "    if rueckgabebetrag > 0.0:\n",
    "        fahrkarte_ausgeben()\n",
    "        print(\"Der Rückgabebetrag in Höhe von %.2f EURO\" %rueckgabebetrag)\n",
    "        print(\"wird in folgenden Münzen ausgezahlt:\")\n",
    "\n",
    "        while rueckgabebetrag >= 2.0: # 2 EURO-Münzen\n",
    "            print(\"2 EURO\")\n",
    "            rueckgabebetrag -= 2.0\n",
    "        while rueckgabebetrag >= 1.0: # 1 EURO-Münzen\n",
    "            print(\"1 EURO\")\n",
    "            rueckgabebetrag -= 1.0\n",
    "        while rueckgabebetrag >= 0.5: # 50 CENT-Münzen\n",
    "            print(\"50 CENT\")\n",
    "            rueckgabebetrag -= 0.5\n",
    "        while rueckgabebetrag >= 0.2: # 20 CENT-Münzen\n",
    "            print(\"20 CENT\")\n",
    "            rueckgabebetrag -= 0.2\n",
    "        while rueckgabebetrag >= 0.1: # 10 CENT-Münzen\n",
    "            print(\"10 CENT\")\n",
    "            rueckgabebetrag -= 0.1\n",
    "        while rueckgabebetrag >= 0.05: # 5 CENT-Münzen\n",
    "            print(\"5 CENT\")\n",
    "            rueckgabebetrag -= 0.05\n",
    "      \n",
    "    print(\"\\nVergessen Sie nicht, den Fahrschein\\n\"+\n",
    "          \"vor Fahrtantritt entwerten zu lassen!\\n\"+\n",
    "          \"Wir wünschen Ihnen eine gute Fahrt.\\n\")\n",
    "\n",
    "    \n",
    "   \n",
    "\n",
    "\n",
    "main(\"\")"
   ]
  },
  {
   "cell_type": "markdown",
   "metadata": {},
   "source": [
    "### Aufgabe:\n",
    "Der Fahrkartenautomat soll nach Beendigung eines Kaufvorgangs für weitere Kaufvorgänge bereit sein.\n",
    "Das Programm soll also in einer Endlosschleife wiederholt werden."
   ]
  },
  {
   "cell_type": "code",
   "execution_count": null,
   "metadata": {},
   "outputs": [],
   "source": [
    "def main(args):\n",
    "\n",
    "    \n",
    "\n",
    "main(\"\")"
   ]
  },
  {
   "cell_type": "code",
   "execution_count": null,
   "metadata": {},
   "outputs": [],
   "source": []
  }
 ],
 "metadata": {
  "kernelspec": {
   "display_name": "Python 3.10.6 64-bit",
   "language": "python",
   "name": "python3"
  },
  "language_info": {
   "codemirror_mode": {
    "name": "ipython",
    "version": 3
   },
   "file_extension": ".py",
   "mimetype": "text/x-python",
   "name": "python",
   "nbconvert_exporter": "python",
   "pygments_lexer": "ipython3",
   "version": "3.10.8"
  },
  "vscode": {
   "interpreter": {
    "hash": "b0fa6594d8f4cbf19f97940f81e996739fb7646882a419484c72d19e05852a7e"
   }
  }
 },
 "nbformat": 4,
 "nbformat_minor": 4
}
