{
 "cells": [
  {
   "cell_type": "markdown",
   "metadata": {},
   "source": [
    "# Python3-Datentypen"
   ]
  },
  {
   "cell_type": "markdown",
   "metadata": {},
   "source": [
    "## Python-Seqentielle-Datentypen"
   ]
  },
  {
   "cell_type": "markdown",
   "metadata": {},
   "source": [
    "### 1. Listen (List)"
   ]
  },
  {
   "cell_type": "markdown",
   "metadata": {},
   "source": [
    "Listen kann man mit Arrays von Programmiersprachen wie C, C ++ oder Java vergleichen. Aber Python-Listen sind weitaus flexibler und leistungsfähiger als \"klassische\" Arrays. Beispielsweise müssen nicht alle Elemente in einer Liste denselben Typ haben. D. h. sie kann eine beliebige Mischung von Elementen wie Zahlen, Zeichenfolgen, anderen Listen usw. beinhalten."
   ]
  },
  {
   "cell_type": "code",
   "execution_count": null,
   "metadata": {},
   "outputs": [],
   "source": [
    "l1 =  []\n",
    "l2 = [1,2,3,4,5,6]\n",
    "l3 = [42, \"What's the question?\", 3.1415, l2]\n",
    "l4 = list(range(1,20,2))\n",
    "\n",
    "print(l3)\n",
    "print(l4)\n",
    "\n",
    "\n"
   ]
  },
  {
   "cell_type": "markdown",
   "metadata": {},
   "source": [
    "Es gibt viele Listen-Funktionen. Bitte auch selbst ausprobieren!"
   ]
  },
  {
   "cell_type": "markdown",
   "metadata": {},
   "source": [
    "#### 1.1 Zugriff auf Listenelemente "
   ]
  },
  {
   "cell_type": "code",
   "execution_count": null,
   "metadata": {},
   "outputs": [],
   "source": [
    "l3 = [42, \"What's the question?\", 3.1415, l2]\n",
    "print(l3[3])\n",
    "print(l3[3][1])\n",
    "print(l3[-2])\n",
    "print(l3[len(l3) - 1])\n",
    "\n"
   ]
  },
  {
   "cell_type": "code",
   "execution_count": null,
   "metadata": {},
   "outputs": [],
   "source": [
    "l3[0] = \"TEST\"\n",
    "\n",
    "l3"
   ]
  },
  {
   "cell_type": "code",
   "execution_count": null,
   "metadata": {},
   "outputs": [],
   "source": [
    "l3[1:2]"
   ]
  },
  {
   "cell_type": "markdown",
   "metadata": {},
   "source": [
    "#### 1.2 Liste verändern"
   ]
  },
  {
   "cell_type": "code",
   "execution_count": null,
   "metadata": {},
   "outputs": [],
   "source": [
    "sprachen = [\"Python\", \"C\", \"C++\", \"Java\", \"Perl\"]\n",
    "sprachen +=  [\"Lisp\"]\n",
    "\n",
    "sprachen"
   ]
  },
  {
   "cell_type": "code",
   "execution_count": null,
   "metadata": {},
   "outputs": [],
   "source": [
    "sprachen = [\"Python\", \"C\", \"C++\", \"Java\", \"Perl\"]\n",
    "sprachen.append(\"Lisp\")\n",
    "\n",
    "sprachen"
   ]
  },
  {
   "cell_type": "code",
   "execution_count": null,
   "metadata": {},
   "outputs": [],
   "source": [
    "sprachen = [\"Python\", \"C\", \"C++\", \"Java\", \"Perl\"]\n",
    "sprachen.insert(5,\"Lisp\")\n",
    "\n",
    "sprachen"
   ]
  },
  {
   "cell_type": "code",
   "execution_count": null,
   "metadata": {},
   "outputs": [],
   "source": [
    "print(sprachen.pop())\n",
    "sprachen"
   ]
  },
  {
   "cell_type": "markdown",
   "metadata": {},
   "source": [
    "### 2. Tuple"
   ]
  },
  {
   "cell_type": "markdown",
   "metadata": {},
   "source": [
    "Ein Tupel ist eine unveränderliche Liste. Das heißt. ein Tupel kann nach seiner Erstellung in keiner Weise geändert werden. Ein Tupel wird analog zu Listen definiert, mit der Ausnahme, dass die Elementmenge in Klammern anstelle von eckigen Klammern steht. \n",
    "\n",
    "Wo ist der Nutzen von Tupeln?\n",
    "\n",
    "- Tupel sind schneller als Listen.\n",
    "- Wenn Sie wissen, dass einige Daten nicht geändert werden müssen, sollten Sie Tupel anstelle von Listen verwenden, da dies Ihre Daten vor versehentlichen Änderungen schützt (z. B. Jahreszeiten, Monate etc.).\n",
    "- Der Hauptvorteil von Tupeln besteht darin, dass Tupel als Schlüssel in Wörterbüchern (Dictionaries) verwendet werden können, Listen jedoch nicht."
   ]
  },
  {
   "cell_type": "code",
   "execution_count": null,
   "metadata": {},
   "outputs": [],
   "source": [
    "t = (0,1,2,3,4,5,6,7,8,9)\n",
    "print(type(t))\n",
    "t"
   ]
  },
  {
   "cell_type": "code",
   "execution_count": null,
   "metadata": {},
   "outputs": [],
   "source": [
    "l = [1,2,3,4,5,6]\n",
    "m = tuple(l)\n",
    "m"
   ]
  },
  {
   "cell_type": "code",
   "execution_count": null,
   "metadata": {},
   "outputs": [],
   "source": [
    "t = (0,1,2,3,4,5,6,7,8,9)\n",
    "print(t[0])"
   ]
  },
  {
   "cell_type": "code",
   "execution_count": null,
   "metadata": {},
   "outputs": [],
   "source": [
    "t[0] = 5 #TypeError: 'tuple' object does not support item assignment"
   ]
  },
  {
   "cell_type": "markdown",
   "metadata": {},
   "source": [
    "### 3. Mengen"
   ]
  },
  {
   "cell_type": "markdown",
   "metadata": {},
   "source": [
    "Ein Menge enthält eine ungeordnete Sammlung von einmaligen und unveränderlichen Elementen.\n",
    "\n",
    "Es gibt 4 Typen:\n",
    "    Tuple, Liste / Array, Set, Dictionary"
   ]
  },
  {
   "cell_type": "code",
   "execution_count": null,
   "metadata": {},
   "outputs": [],
   "source": [
    "Ein Set - unsortiert und nicht veränderbar"
   ]
  },
  {
   "cell_type": "code",
   "execution_count": null,
   "metadata": {},
   "outputs": [],
   "source": [
    "zahlen = {1,2,3,4,5,6,7,8,9,9}\n",
    "zahlen\n",
    "#alternativ\n",
    "m = set((1,2,3,4,1))\n",
    "m"
   ]
  },
  {
   "cell_type": "code",
   "execution_count": null,
   "metadata": {},
   "outputs": [],
   "source": [
    "Eine Liste / Array - änderbar und feste Reihenfolge"
   ]
  },
  {
   "cell_type": "code",
   "execution_count": null,
   "metadata": {},
   "outputs": [],
   "source": [
    "l = [1,2,3,4,5,6]\n",
    "m = set(l)\n",
    "m"
   ]
  },
  {
   "cell_type": "code",
   "execution_count": null,
   "metadata": {},
   "outputs": [],
   "source": [
    "4 in zahlen"
   ]
  },
  {
   "cell_type": "code",
   "execution_count": null,
   "metadata": {},
   "outputs": [],
   "source": [
    "4 not in zahlen"
   ]
  },
  {
   "cell_type": "markdown",
   "metadata": {},
   "source": [
    "### 4. Dictionaries"
   ]
  },
  {
   "cell_type": "code",
   "execution_count": null,
   "metadata": {},
   "outputs": [],
   "source": [
    "mein_adressbuch = {\"Name\":\"Peter\",\"Telefonnummer\":15879757987}\n",
    "print(mein_adressbuch)\n",
    "print(mein_adressbuch[\"Name\"])\n"
   ]
  },
  {
   "cell_type": "markdown",
   "metadata": {},
   "source": [
    "### 5. Arbeit mit Listen"
   ]
  },
  {
   "cell_type": "markdown",
   "metadata": {},
   "source": [
    "#### 5.1 Ausschneiden / Slicing"
   ]
  },
  {
   "cell_type": "markdown",
   "metadata": {},
   "source": [
    "Jedes Mal, wenn Sie einen Teil eines Strings oder einer Liste in Python extrahieren möchten, sollten Sie den Slice-Operator verwenden. Die Syntax ist einfach. "
   ]
  },
  {
   "cell_type": "code",
   "execution_count": null,
   "metadata": {},
   "outputs": [],
   "source": [
    "zahlen=[0,1,2,3,4,5,6,7,8,9]\n",
    "zahlen"
   ]
  },
  {
   "cell_type": "code",
   "execution_count": null,
   "metadata": {},
   "outputs": [],
   "source": [
    "zahlen[0:5]"
   ]
  },
  {
   "cell_type": "code",
   "execution_count": null,
   "metadata": {},
   "outputs": [],
   "source": [
    "zahlen[5:]"
   ]
  },
  {
   "cell_type": "code",
   "execution_count": null,
   "metadata": {},
   "outputs": [],
   "source": [
    "zahlen[0:-2]"
   ]
  },
  {
   "cell_type": "code",
   "execution_count": null,
   "metadata": {},
   "outputs": [],
   "source": [
    "zahlen[:-2]"
   ]
  },
  {
   "cell_type": "code",
   "execution_count": null,
   "metadata": {},
   "outputs": [],
   "source": [
    "zahlen[2:6]"
   ]
  },
  {
   "cell_type": "markdown",
   "metadata": {},
   "source": [
    "#### 5.2 Schneiden mit 3 Argumente"
   ]
  },
  {
   "cell_type": "code",
   "execution_count": null,
   "metadata": {},
   "outputs": [],
   "source": [
    "zahlen=[0,1,2,3,4,5,6,7,8,9]\n",
    "zahlen[::2]"
   ]
  },
  {
   "cell_type": "code",
   "execution_count": null,
   "metadata": {},
   "outputs": [],
   "source": [
    "zahlen[::3]"
   ]
  },
  {
   "cell_type": "code",
   "execution_count": null,
   "metadata": {},
   "outputs": [],
   "source": [
    "s = \"python is really fun.\"\n",
    "t = \"OSZ IMT is not the best .\"\n",
    "\n",
    "erg = \"\".join([\"\".join(x) for x in zip(s,t)])\n",
    "\n",
    "print(erg)"
   ]
  },
  {
   "cell_type": "code",
   "execution_count": null,
   "metadata": {},
   "outputs": [],
   "source": [
    "erg[::2]"
   ]
  },
  {
   "cell_type": "code",
   "execution_count": null,
   "metadata": {},
   "outputs": [],
   "source": [
    "erg[1::2]"
   ]
  },
  {
   "cell_type": "markdown",
   "metadata": {},
   "source": [
    "#### 5.3 Länge ermitteln"
   ]
  },
  {
   "cell_type": "code",
   "execution_count": 12,
   "metadata": {},
   "outputs": [
    {
     "data": {
      "text/plain": [
       "8"
      ]
     },
     "execution_count": 12,
     "metadata": {},
     "output_type": "execute_result"
    }
   ],
   "source": [
    "zahlen=[0,1,2,3,4,5,6,7]\n",
    "\n",
    "\n",
    "len(zahlen)\n"
   ]
  },
  {
   "cell_type": "markdown",
   "metadata": {},
   "source": [
    "#### 5.4 Ist in der Liste vorhanden"
   ]
  },
  {
   "cell_type": "code",
   "execution_count": 5,
   "metadata": {},
   "outputs": [
    {
     "data": {
      "text/plain": [
       "True"
      ]
     },
     "execution_count": 5,
     "metadata": {},
     "output_type": "execute_result"
    }
   ],
   "source": [
    "zahlen=[0,1,2,3,4,5,6,7,8,9]\n",
    "4 in zahlen"
   ]
  },
  {
   "cell_type": "code",
   "execution_count": null,
   "metadata": {},
   "outputs": [],
   "source": [
    "4 not in zahlen"
   ]
  },
  {
   "cell_type": "markdown",
   "metadata": {},
   "source": [
    "#### 5.5 Listen mit dem Slicing-Operator kopieren"
   ]
  },
  {
   "cell_type": "code",
   "execution_count": 6,
   "metadata": {},
   "outputs": [
    {
     "name": "stdout",
     "output_type": "stream",
     "text": [
      "[1, 2, 3, 4, 5, 6] [1, 2, 3, 4, 5, 6]\n",
      "[1, 2, 3, 4, 5, 6, 7] [1, 2, 3, 4, 5, 6, 7]\n",
      "[1, 2, 3, 4, 5, 6, 7] [1, 2, 3, 4, 5, 6, 7]\n",
      "[1, 2, 3, 4, 5, 6] [1, 2, 3, 4, 5, 6, 7]\n"
     ]
    }
   ],
   "source": [
    "list1 = [1, 2, 3, 4, 5, 6]\n",
    "list2 = list1\n",
    "print(list1, list2)\n",
    "list1.append(7)\n",
    "print(list1,list2)\n",
    "list3 = list1[:]\n",
    "print(list1, list3)\n",
    "del list1[len(list1)-1]\n",
    "print(list1, list3)\n"
   ]
  },
  {
   "cell_type": "markdown",
   "metadata": {},
   "source": [
    "#### 5.6 Copy() vs. Deepcopy()"
   ]
  },
  {
   "cell_type": "markdown",
   "metadata": {},
   "source": [
    "`copy()` erstellt nur eine flache Kopie der Liste, d. h. nur die Verweise der 1. Ebene wird kopiert. Beim Slicing-Operator verhält es sich genauso."
   ]
  },
  {
   "cell_type": "code",
   "execution_count": null,
   "metadata": {},
   "outputs": [],
   "source": [
    "person1 = [\"Peter\", [\"Bernauer Straße\", \"Berlin\"]]\n",
    "print(person1)\n",
    "person2 = person1.copy()\n",
    "person2[0] = \"Anja\"\n",
    "print(person2)\n",
    "person2[1][0] = \"Schlossallee\"\n",
    "print(person2)\n",
    "print(person1)\n",
    "\n",
    "print(\"--------------\")\n",
    "person2 = person1[:]\n",
    "person2[0] = \"Anja\"\n",
    "print(person2)\n",
    "person2[1][0] = \"Berliner Str.\"\n",
    "print(person2)\n",
    "print(person1)\n",
    "\n",
    "print(\"--------------\")\n",
    "from copy import deepcopy\n",
    "person2 = deepcopy(person1)\n",
    "person2[0] = \"Anja\"\n",
    "print(person2)\n",
    "person2[1][0] = \"Schlossallee\"\n",
    "print(person2)\n",
    "print(person1)"
   ]
  },
  {
   "cell_type": "markdown",
   "metadata": {},
   "source": [
    "Wiederholungen ..."
   ]
  },
  {
   "cell_type": "code",
   "execution_count": null,
   "metadata": {},
   "outputs": [],
   "source": [
    "l2 = [l1] * 4\n",
    "print(l2)\n",
    "l2[0][0] = \"blu\"\n",
    "print(l2)"
   ]
  },
  {
   "cell_type": "markdown",
   "metadata": {},
   "source": [
    "# Funktionen"
   ]
  },
  {
   "cell_type": "markdown",
   "metadata": {},
   "source": [
    "<pre>def name(params) :  \n",
    "\tanw1  \n",
    "\tanw2\n",
    "</pre>"
   ]
  },
  {
   "cell_type": "markdown",
   "metadata": {},
   "source": [
    "Leeranweisung: `pass`\n"
   ]
  },
  {
   "cell_type": "code",
   "execution_count": null,
   "metadata": {},
   "outputs": [],
   "source": [
    "help(len)"
   ]
  },
  {
   "cell_type": "markdown",
   "metadata": {},
   "source": [
    "Python erlaubt mehrere Rückgabewerte und eine beliebige Anzahl von Parametern. Außerdem können Parameter mit Standardwerten und mit Namen (Schlüsselwortparameter) versehen werden."
   ]
  },
  {
   "cell_type": "code",
   "execution_count": null,
   "metadata": {},
   "outputs": [],
   "source": [
    "def calc(a, b, c=0, d=0) :\n",
    "  return a + b - c + d\n",
    "calc(2,3,d=4)"
   ]
  },
  {
   "cell_type": "code",
   "execution_count": 3,
   "metadata": {},
   "outputs": [
    {
     "name": "stdout",
     "output_type": "stream",
     "text": [
      "5\n",
      "4\n",
      "3\n",
      "2\n",
      "1\n",
      "0\n"
     ]
    },
    {
     "data": {
      "text/plain": [
       "15"
      ]
     },
     "execution_count": 3,
     "metadata": {},
     "output_type": "execute_result"
    }
   ],
   "source": [
    "def sum(a) :\n",
    "  print(a)\n",
    "  if a > 0 :\n",
    "    return a + (sum(a-1))\n",
    "  else :\n",
    "    return 0\n",
    "  \n",
    "sum(5)"
   ]
  },
  {
   "cell_type": "code",
   "execution_count": null,
   "metadata": {},
   "outputs": [],
   "source": [
    "from random import randint\n",
    "\n",
    "def gen_2_randoms(x) :\n",
    "  a = randint(0, x)\n",
    "  b = randint(0, x)\n",
    "  return a, b\n",
    "\n",
    "gen_2_randoms(20)"
   ]
  },
  {
   "cell_type": "markdown",
   "metadata": {},
   "source": [
    "# File-Handling"
   ]
  },
  {
   "cell_type": "markdown",
   "metadata": {},
   "source": [
    "Parameter w: Datei schreibend öffnen (**Achtung:** Datei wird zuvor gelöscht, wenn vorhanden)"
   ]
  },
  {
   "cell_type": "code",
   "execution_count": null,
   "metadata": {},
   "outputs": [],
   "source": [
    "f = open(\"test.txt\", \"w\")\n",
    "for i in range(0,5) :\n",
    "  f.write(str(i) + \"\\n\")\n",
    "  \n",
    "f.close()"
   ]
  },
  {
   "cell_type": "markdown",
   "metadata": {},
   "source": [
    "Parameter a: Datei schreibend öffnen, eine vorhandene Datei wird nicht gelöscht"
   ]
  },
  {
   "cell_type": "code",
   "execution_count": null,
   "metadata": {},
   "outputs": [],
   "source": [
    "f = open(\"test.txt\", \"a\")\n",
    "for i in range(0,5) :\n",
    "  f.write(str(i) + \"\\n\")\n",
    "f.close()"
   ]
  },
  {
   "cell_type": "markdown",
   "metadata": {},
   "source": [
    "Parameter r: Datei lesend öffnen"
   ]
  },
  {
   "cell_type": "code",
   "execution_count": null,
   "metadata": {},
   "outputs": [],
   "source": [
    "f = open(\"test.txt\", \"r\")\n",
    "for line in f: \n",
    "  print(line.rstrip()) # rstrip entfernt Leerzeichen und Zeilenumbruche vom rechten Ende der Zeile\n",
    "f.close()"
   ]
  }
 ],
 "metadata": {
  "kernelspec": {
   "display_name": "Python 3 (ipykernel)",
   "language": "python",
   "name": "python3"
  },
  "language_info": {
   "codemirror_mode": {
    "name": "ipython",
    "version": 3
   },
   "file_extension": ".py",
   "mimetype": "text/x-python",
   "name": "python",
   "nbconvert_exporter": "python",
   "pygments_lexer": "ipython3",
   "version": "3.9.12"
  },
  "vscode": {
   "interpreter": {
    "hash": "cc64b725031869def400826267b7cf8f5368eaa82404991e9dd78532e9c4a4b7"
   }
  }
 },
 "nbformat": 4,
 "nbformat_minor": 4
}
