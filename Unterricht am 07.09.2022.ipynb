{
  "cells": [
    {
      "cell_type": "markdown",
      "id": "6de2facf",
      "metadata": {},
      "source": [
        "# IT-Z: Python 07.09.2022"
      ]
    },
    {
      "cell_type": "markdown",
      "id": "0886c254",
      "metadata": {},
      "source": [
        "## Organisatorisches\n",
        "- Moodle-Kurs: https://moodle.oszimt.de/course/view.php?id=4188\n",
        "- Einschreibeschlüssel Python-Kurs: super.__init__()\n",
        "- Abgaben werden quantitativ und qualitativ (Stichproben) bewertet\n",
        "- kurze Tests zu Stundenbeginn\n",
        "- Hausaufgaben implizit (ggf. nacharbeiten)\n",
        "- pro Halbjahr eine Klausur (Nachschreiberregeln beachten)\n",
        "- Unterricht per BBB (ggf. bei Schulschließung oder Krankheit)"
      ]
    },
    {
      "cell_type": "markdown",
      "id": "d0a75cbb",
      "metadata": {},
      "source": [
        "## Software"
      ]
    },
    {
      "cell_type": "markdown",
      "id": "2fd69af9",
      "metadata": {},
      "source": [
        "- Anaconda: Python-Distribution\n",
        "\t- Python 3.x\n",
        "\t- virtuelle Umgebungen mit conda\n",
        "\t- Jupyter\n",
        "\t\t- web-basierte interaktive Umgebung\n",
        "\t- Visual Studio Code\n",
        "\t\t- kann ebenfalls Jupyter-Notebooks öffnen\n",
        "\t- weitere Apps und Bibliotheken\n",
        "- andere IDEs (z. B. PyCharm möglich, aber kein Support durch die Lehrenden)"
      ]
    },
    {
      "cell_type": "markdown",
      "id": "055e01e7",
      "metadata": {},
      "source": [
        "## Sehr einfache Python-Einführung\n",
        "- https://silentteacher.toxicode.fr/hour_of_code.html?theme=basic_python\n"
      ]
    },
    {
      "cell_type": "markdown",
      "id": "fe894cca",
      "metadata": {},
      "source": [
        "## Über Python\n",
        "- Python wird interpretiert, mit allen Vor- und Nachteilen.\n",
        "\t- Der Interpretor führt Zeile für Zeile aus, von oben nach unten und links nach rechts.\n",
        "\t- In Falle von Syntaxfehlern wird das Programm beendet.\n",
        "- Einsatz vor allem im wissenschaftlichen Umfeld (Data Science), kann aber überall verwendet werden.\n",
        "- Wir nutzen **Python 3.x**."
      ]
    },
    {
      "cell_type": "markdown",
      "id": "30c67c88",
      "metadata": {},
      "source": [
        "## Markdown-Einführung\n",
        "Das ist ein Absatz.\n",
        "\n",
        "Der **nächste** Absatz.\n",
        "\n",
        "- Aufzählung\n",
        "    - Punkt 1\n",
        "    - Punkt 2\n",
        "    \n",
        "1. Nummerierung\n",
        "    1. Test\n",
        "    2. Test\n",
        "2. Test\n",
        "\n",
        "- [x] Todo 1\n",
        "- [ ] Todo 2"
      ]
    },
    {
      "cell_type": "markdown",
      "id": "3751cce4",
      "metadata": {},
      "source": [
        "# Einführung in Python\n",
        "## Grundlagen\n",
        "\n"
      ]
    },
    {
      "cell_type": "markdown",
      "id": "5b7e3d09",
      "metadata": {},
      "source": [
        "### Konsolenausgabe"
      ]
    },
    {
      "cell_type": "code",
      "execution_count": null,
      "id": "88179333",
      "metadata": {},
      "outputs": [],
      "source": [
        "print(\"Hello World\")"
      ]
    },
    {
      "cell_type": "code",
      "execution_count": null,
      "id": "fdef7d74",
      "metadata": {},
      "outputs": [],
      "source": [
        "print('Hello')"
      ]
    },
    {
      "cell_type": "code",
      "execution_count": null,
      "id": "c800d1df",
      "metadata": {},
      "outputs": [],
      "source": [
        "name = \"Herr Balzer\""
      ]
    },
    {
      "cell_type": "code",
      "execution_count": null,
      "id": "252a07a4",
      "metadata": {},
      "outputs": [
        {
          "name": "stdout",
          "output_type": "stream",
          "text": [
            "Hallo Herr Balzer\n"
          ]
        }
      ],
      "source": [
        "print(\"Hallo \" + name)"
      ]
    },
    {
      "cell_type": "code",
      "execution_count": null,
      "id": "344259d1",
      "metadata": {},
      "outputs": [
        {
          "name": "stdout",
          "output_type": "stream",
          "text": [
            "Hallo Herr Balzer\n"
          ]
        }
      ],
      "source": [
        "print(\"Hallo\", name)"
      ]
    },
    {
      "cell_type": "code",
      "execution_count": null,
      "id": "564d8159",
      "metadata": {},
      "outputs": [
        {
          "name": "stdout",
          "output_type": "stream",
          "text": [
            "Hello0Herr Balzer0wie gehts?SturzTest\n"
          ]
        }
      ],
      "source": [
        "print(\"Hello\", name, \"wie gehts?\", sep=\"0\", end=\"Sturz\")\n",
        "print(\"Test\")"
      ]
    },
    {
      "cell_type": "markdown",
      "id": "8ab6ed75",
      "metadata": {},
      "source": [
        "#### Printf ..."
      ]
    },
    {
      "cell_type": "code",
      "execution_count": null,
      "id": "8d881e58",
      "metadata": {},
      "outputs": [
        {
          "name": "stdout",
          "output_type": "stream",
          "text": [
            "Preis: 12.43 Euro\n"
          ]
        }
      ],
      "source": [
        "print(\"Preis: %.2f Euro\" % 12.4342324)"
      ]
    },
    {
      "cell_type": "markdown",
      "id": "ccb29352",
      "metadata": {},
      "source": [
        "`%d`: Ganze Zahlen  \n",
        "`%s`: Zeichenketten (Strings)"
      ]
    },
    {
      "cell_type": "code",
      "execution_count": null,
      "id": "ccdb46b4",
      "metadata": {},
      "outputs": [],
      "source": [
        "print(\"Preis: %d Euro\" % 12.7342324)"
      ]
    },
    {
      "cell_type": "code",
      "execution_count": null,
      "id": "57b1a711",
      "metadata": {},
      "outputs": [
        {
          "name": "stdout",
          "output_type": "stream",
          "text": [
            "Hallo Kay, der Preis beträgt    12.23 Euro.\n"
          ]
        }
      ],
      "source": [
        "print(\"Hallo %s, der Preis beträgt %8.2f Euro.\" % (\"Kay\", 12.23423748))"
      ]
    },
    {
      "cell_type": "markdown",
      "id": "72deb47c",
      "metadata": {},
      "source": [
        "#### format()\n",
        "Weitere Beispiele: https://www.python-kurs.eu/python3_formatierte_ausgabe.php"
      ]
    },
    {
      "cell_type": "code",
      "execution_count": null,
      "id": "fe422b1a",
      "metadata": {},
      "outputs": [
        {
          "data": {
            "text/plain": [
              "'Hallo    Jan    '"
            ]
          },
          "execution_count": 11,
          "metadata": {},
          "output_type": "execute_result"
        }
      ],
      "source": [
        "\"Hallo {0:^10s}\".format(\"Jan\")"
      ]
    },
    {
      "cell_type": "markdown",
      "id": "64042774",
      "metadata": {},
      "source": [
        "### Kommentare in Python"
      ]
    },
    {
      "cell_type": "code",
      "execution_count": null,
      "id": "0560775e",
      "metadata": {},
      "outputs": [],
      "source": [
        "# Das ist ein Kommentar. In Python gibt es nur einzeilige Kommentare!"
      ]
    },
    {
      "cell_type": "markdown",
      "id": "1fef6b84",
      "metadata": {},
      "source": [
        "### Eingaben"
      ]
    },
    {
      "cell_type": "code",
      "execution_count": null,
      "id": "3ec34c52",
      "metadata": {},
      "outputs": [],
      "source": [
        "vorname = input(\"Eingabe Vorname: \")\n",
        "print(vorname)"
      ]
    },
    {
      "cell_type": "code",
      "execution_count": null,
      "id": "89135e21",
      "metadata": {},
      "outputs": [],
      "source": [
        "name : str = input(\"Geben Sie Ihren Namen ein: \") # Type Hints\n",
        "name = 5\n",
        "print(\"Hallo\", name)\n"
      ]
    },
    {
      "cell_type": "markdown",
      "id": "cf3416c3",
      "metadata": {},
      "source": [
        "#### Type Hints\n",
        "Helfen, Fehler in komplexen Projekten zu vermeiden, werden von Python aber ignoriert. Interessant für IDEs wie PyCharm, die Vorab-Checks des Codes ausführen.\n",
        "```Specifying a variable type in Python does not mean the variable can only accept values of that type. They are just hints that inform a user of the type which a variable is.``` https://www.pythonstacks.com/blog/post/type-hints-python/"
      ]
    },
    {
      "cell_type": "code",
      "execution_count": null,
      "id": "9df0fa5f",
      "metadata": {},
      "outputs": [
        {
          "data": {
            "text/plain": [
              "str"
            ]
          },
          "execution_count": 12,
          "metadata": {},
          "output_type": "execute_result"
        }
      ],
      "source": [
        "type(name)"
      ]
    },
    {
      "cell_type": "markdown",
      "id": "63637836",
      "metadata": {},
      "source": [
        "`type()`gibt den aktuellen Datentypen zurück."
      ]
    },
    {
      "cell_type": "code",
      "execution_count": null,
      "id": "76293c4f",
      "metadata": {},
      "outputs": [
        {
          "ename": "ValueError",
          "evalue": "invalid literal for int() with base 10: ''",
          "output_type": "error",
          "traceback": [
            "\u001b[0;31m---------------------------------------------------------------------------\u001b[0m",
            "\u001b[0;31mValueError\u001b[0m                                Traceback (most recent call last)",
            "Cell \u001b[0;32mIn [1], line 1\u001b[0m\n\u001b[0;32m----> 1\u001b[0m zahl \u001b[38;5;241m=\u001b[39m \u001b[38;5;28;43mint\u001b[39;49m\u001b[43m(\u001b[49m\u001b[38;5;28;43minput\u001b[39;49m\u001b[43m(\u001b[49m\u001b[38;5;124;43m\"\u001b[39;49m\u001b[38;5;124;43mGeben Sie eine Zahl ein: \u001b[39;49m\u001b[38;5;124;43m\"\u001b[39;49m\u001b[43m)\u001b[49m\u001b[43m)\u001b[49m\n\u001b[1;32m      2\u001b[0m \u001b[38;5;28mtype\u001b[39m(zahl)\n\u001b[1;32m      3\u001b[0m \u001b[38;5;28mprint\u001b[39m (zahl \u001b[38;5;241m+\u001b[39m \u001b[38;5;241m2\u001b[39m)\n",
            "\u001b[0;31mValueError\u001b[0m: invalid literal for int() with base 10: ''"
          ]
        }
      ],
      "source": [
        "zahl = int(input(\"Geben Sie eine Zahl ein: \"))\n",
        "type(zahl)\n",
        "print (zahl + 2)"
      ]
    },
    {
      "cell_type": "markdown",
      "id": "974d6e23",
      "metadata": {},
      "source": [
        "### Datentypen"
      ]
    },
    {
      "cell_type": "code",
      "execution_count": null,
      "id": "15a5a47c",
      "metadata": {},
      "outputs": [
        {
          "data": {
            "text/plain": [
              "(float, bool, int, str, str, list, tuple)"
            ]
          },
          "execution_count": 2,
          "metadata": {},
          "output_type": "execute_result"
        }
      ],
      "source": [
        "a = 1.1\n",
        "b = True\n",
        "c = 20\n",
        "d = 'Hello'\n",
        "e = \"World\"\n",
        "f = [1,2,\"Hello\"]\n",
        "g = (1,2,3)\n",
        "type(a),type(b), type(c), type(d), type(e), type(f), type(g)"
      ]
    },
    {
      "cell_type": "code",
      "execution_count": null,
      "id": "c03e3829",
      "metadata": {},
      "outputs": [
        {
          "name": "stdout",
          "output_type": "stream",
          "text": [
            "1\n"
          ]
        }
      ],
      "source": [
        "print(g[0])"
      ]
    },
    {
      "cell_type": "code",
      "execution_count": null,
      "id": "caa36bbe",
      "metadata": {},
      "outputs": [
        {
          "ename": "TypeError",
          "evalue": "'tuple' object does not support item assignment",
          "output_type": "error",
          "traceback": [
            "\u001b[0;31m---------------------------------------------------------------------------\u001b[0m",
            "\u001b[0;31mTypeError\u001b[0m                                 Traceback (most recent call last)",
            "Cell \u001b[0;32mIn [4], line 1\u001b[0m\n\u001b[0;32m----> 1\u001b[0m \u001b[43mg\u001b[49m\u001b[43m[\u001b[49m\u001b[38;5;241;43m0\u001b[39;49m\u001b[43m]\u001b[49m \u001b[38;5;241m=\u001b[39m \u001b[38;5;241m2\u001b[39m\n",
            "\u001b[0;31mTypeError\u001b[0m: 'tuple' object does not support item assignment"
          ]
        }
      ],
      "source": [
        "g[0] = 2"
      ]
    },
    {
      "cell_type": "code",
      "execution_count": null,
      "id": "9ad460e7",
      "metadata": {},
      "outputs": [
        {
          "name": "stdout",
          "output_type": "stream",
          "text": [
            "[1, 2, 'Hello World']\n"
          ]
        }
      ],
      "source": [
        "f[2] = \"Hello World\"\n",
        "print(f)"
      ]
    },
    {
      "cell_type": "markdown",
      "id": "1d563323",
      "metadata": {},
      "source": [
        "### Type Casting"
      ]
    },
    {
      "cell_type": "code",
      "execution_count": null,
      "id": "84b2eb91",
      "metadata": {},
      "outputs": [
        {
          "name": "stdout",
          "output_type": "stream",
          "text": [
            "<class 'int'>\n"
          ]
        },
        {
          "data": {
            "text/plain": [
              "'2'"
            ]
          },
          "execution_count": 6,
          "metadata": {},
          "output_type": "execute_result"
        }
      ],
      "source": [
        "zahl = 2\n",
        "print(type(zahl))\n",
        "str(zahl)"
      ]
    },
    {
      "cell_type": "markdown",
      "id": "18f97cd1",
      "metadata": {},
      "source": [
        "int()  \n",
        "str()  \n",
        "bool()\n"
      ]
    },
    {
      "cell_type": "code",
      "execution_count": null,
      "id": "8ccb9761",
      "metadata": {},
      "outputs": [],
      "source": [
        "bool(\"2\")"
      ]
    },
    {
      "cell_type": "code",
      "execution_count": null,
      "id": "5eb8e51e",
      "metadata": {},
      "outputs": [],
      "source": []
    },
    {
      "cell_type": "markdown",
      "id": "549b795f",
      "metadata": {},
      "source": [
        "### Zahlen"
      ]
    },
    {
      "cell_type": "code",
      "execution_count": null,
      "id": "617e5b72",
      "metadata": {},
      "outputs": [],
      "source": [
        "x1 = 111 # Ganze Zahlen\n",
        "x2 = 0o04 # Oktalzahl\n",
        "x3 = 0b10001 # Binärzahl\n",
        "x4 = 0xAB # Hexadezimalzahl\n",
        "print(x4)"
      ]
    },
    {
      "cell_type": "code",
      "execution_count": null,
      "id": "2ee0df75",
      "metadata": {},
      "outputs": [
        {
          "data": {
            "text/plain": [
              "171"
            ]
          },
          "execution_count": 7,
          "metadata": {},
          "output_type": "execute_result"
        }
      ],
      "source": [
        "10 * 16**1 + 11 * 16**0"
      ]
    },
    {
      "cell_type": "code",
      "execution_count": null,
      "id": "48acefdd",
      "metadata": {},
      "outputs": [],
      "source": [
        " 1*2**4 + 0 * 2**3 + 0 * 2**2 + 0 * 2**1 + 1 * 2**0"
      ]
    },
    {
      "cell_type": "code",
      "execution_count": null,
      "id": "2251466c",
      "metadata": {},
      "outputs": [],
      "source": [
        "print(x3)\n",
        "type(x3)"
      ]
    },
    {
      "cell_type": "code",
      "execution_count": null,
      "id": "4eb3914a",
      "metadata": {},
      "outputs": [],
      "source": [
        "x = 231829348123490239058145908304598243095823405984305893490212837198237192837\n",
        "x*x*x"
      ]
    },
    {
      "cell_type": "markdown",
      "id": "e957571d",
      "metadata": {},
      "source": [
        "### Arithmetische Operatoren"
      ]
    },
    {
      "cell_type": "markdown",
      "id": "80055b61",
      "metadata": {},
      "source": [
        "\\* / + - % ** //"
      ]
    },
    {
      "cell_type": "markdown",
      "id": "928a6f38",
      "metadata": {},
      "source": [
        "### Logische Operatoren"
      ]
    },
    {
      "cell_type": "markdown",
      "id": "3261655a",
      "metadata": {},
      "source": [
        "and not or xor & |"
      ]
    },
    {
      "cell_type": "code",
      "execution_count": null,
      "id": "9fb7312e",
      "metadata": {},
      "outputs": [
        {
          "name": "stdout",
          "output_type": "stream",
          "text": [
            "22\n",
            "0b10111\n"
          ]
        }
      ],
      "source": [
        "a = 0b10101\n",
        "b = 0b10110\n",
        "print(b)\n",
        "print(bin(a|b))"
      ]
    },
    {
      "cell_type": "code",
      "execution_count": null,
      "id": "bee59b4f",
      "metadata": {},
      "outputs": [
        {
          "name": "stdout",
          "output_type": "stream",
          "text": [
            "0b10100\n"
          ]
        }
      ],
      "source": [
        "print(bin(a&b))"
      ]
    },
    {
      "cell_type": "markdown",
      "id": "2e093cc0",
      "metadata": {},
      "source": [
        "### Vergleichsoperatoren"
      ]
    },
    {
      "cell_type": "markdown",
      "id": "b34ec846",
      "metadata": {},
      "source": [
        "== != < > <= >= ..."
      ]
    },
    {
      "cell_type": "markdown",
      "id": "bcf772a3",
      "metadata": {},
      "source": [
        "## Kontrollstrukturen\n",
        "### Anweisungen/Sequenz\n",
        "siehe oben\n",
        "### Verzweigung/Auswahl (IF)"
      ]
    },
    {
      "cell_type": "code",
      "execution_count": 2,
      "id": "d45472f5",
      "metadata": {},
      "outputs": [
        {
          "name": "stdout",
          "output_type": "stream",
          "text": [
            "5\n"
          ]
        }
      ],
      "source": [
        "z1 = int(input(\"Zahl1: \"))\n",
        "z2 = int(input(\"Zahl2: \"))\n",
        "if z1 > z2:\n",
        "    print(\"Die Zahl z1 ist größer\")\n",
        "    print(z1)\n",
        "else:\n",
        "    print(z2)\n",
        "# Codeblöcke werden in Python mit einem Tabulator oder Leerzeichen (einheitlich!!!) eingerückt."
      ]
    },
    {
      "cell_type": "code",
      "execution_count": null,
      "id": "5e7eccc9",
      "metadata": {},
      "outputs": [],
      "source": [
        "if z1 > z2:\n",
        "    print(\"Die Zahl z1 ist größer\")\n",
        "    print(z1)\n",
        "else:\n",
        "    if z1 < z2:\n",
        "        print(z2)\n",
        "    else:\n",
        "        print(\"Die Zahlen {0:d} und {1:d} sind gleich groß.\".format(z1,z2))"
      ]
    },
    {
      "cell_type": "markdown",
      "id": "56310baf",
      "metadata": {},
      "source": [
        "Kurzschreibweise für `else if`: `elif`"
      ]
    },
    {
      "cell_type": "code",
      "execution_count": null,
      "id": "693f66fa",
      "metadata": {},
      "outputs": [],
      "source": [
        "if z1 > z2:\n",
        "    print(\"Die Zahl z1 ist größer\")\n",
        "    print(z1)\n",
        "elif z1 < z2:\n",
        "    print(z2)\n",
        "else:\n",
        "    print(\"Die Zahlen {0:d} und {1:d} sind gleich groß.\".format(z1,z2))"
      ]
    },
    {
      "cell_type": "markdown",
      "id": "6eadc5bb",
      "metadata": {},
      "source": [
        "## Schleifen"
      ]
    },
    {
      "cell_type": "markdown",
      "id": "76e48077",
      "metadata": {},
      "source": [
        "### WHILE"
      ]
    },
    {
      "cell_type": "code",
      "execution_count": 3,
      "id": "b8fad9ba",
      "metadata": {},
      "outputs": [
        {
          "name": "stdout",
          "output_type": "stream",
          "text": [
            "0*1*2*3*4*5*6*7*8*9*"
          ]
        }
      ],
      "source": [
        "zaehler = 0\n",
        "while zaehler < 10:\n",
        "    print(zaehler,end=\"*\")\n",
        "    zaehler += 1"
      ]
    },
    {
      "cell_type": "markdown",
      "id": "6261902a",
      "metadata": {},
      "source": [
        "### FOR"
      ]
    },
    {
      "cell_type": "code",
      "execution_count": 4,
      "id": "e53da789",
      "metadata": {},
      "outputs": [
        {
          "name": "stdout",
          "output_type": "stream",
          "text": [
            "0 2 4 6 8 10 12 14 16 18 "
          ]
        }
      ],
      "source": [
        "for zahl in range(0,20,2):\n",
        "    print(zahl,end=\" \")"
      ]
    },
    {
      "cell_type": "code",
      "execution_count": 5,
      "id": "e972d4bf",
      "metadata": {},
      "outputs": [
        {
          "name": "stdout",
          "output_type": "stream",
          "text": [
            "1\n",
            "4\n",
            "9\n",
            "16\n",
            "25\n"
          ]
        }
      ],
      "source": [
        "l = [1, 2, 3, 4, 5]\n",
        "for zahl in l:\n",
        "    print(zahl**2)"
      ]
    },
    {
      "cell_type": "markdown",
      "id": "e7b589a5",
      "metadata": {},
      "source": [
        "Schlüsselwörter `continue` und `break`: analog zu Java und Co."
      ]
    },
    {
      "cell_type": "code",
      "execution_count": 6,
      "id": "fc40c03c",
      "metadata": {},
      "outputs": [
        {
          "name": "stdout",
          "output_type": "stream",
          "text": [
            "Die Zahl 0 ist gerade.\n",
            "Die Zahl 2 ist gerade.\n",
            "Die Zahl 4 ist gerade.\n",
            "Die Zahl 6 ist gerade.\n",
            "Die Zahl 8 ist gerade.\n",
            "Die Zahl 10 ist gerade.\n",
            "Die Zahl 12 ist gerade.\n",
            "Die Zahl 14 ist gerade.\n",
            "Die Zahl 16 ist gerade.\n",
            "Die Zahl 18 ist gerade.\n"
          ]
        }
      ],
      "source": [
        "l = list(range(0,20)) #tuple()\n",
        "for zahl in l:\n",
        "    if zahl % 2 == 0:\n",
        "        #l[zahl] = \"gerade\"\n",
        "        print(\"Die Zahl {0:d} ist gerade.\".format(zahl))\n",
        "    else:\n",
        "        continue; # break\n"
      ]
    },
    {
      "cell_type": "markdown",
      "id": "604a3d16",
      "metadata": {},
      "source": [
        "# Fragen ?\n"
      ]
    },
    {
      "cell_type": "raw",
      "id": "7d9cd52b",
      "metadata": {},
      "source": [
        "Immer gerne!"
      ]
    }
  ],
  "metadata": {
    "kernelspec": {
      "display_name": "Python 3.10.6 64-bit",
      "language": "python",
      "name": "python3"
    },
    "language_info": {
      "codemirror_mode": {
        "name": "ipython",
        "version": 3
      },
      "file_extension": ".py",
      "mimetype": "text/x-python",
      "name": "python",
      "nbconvert_exporter": "python",
      "pygments_lexer": "ipython3",
      "version": "3.10.6"
    },
    "vscode": {
      "interpreter": {
        "hash": "b0fa6594d8f4cbf19f97940f81e996739fb7646882a419484c72d19e05852a7e"
      }
    }
  },
  "nbformat": 4,
  "nbformat_minor": 5
}
