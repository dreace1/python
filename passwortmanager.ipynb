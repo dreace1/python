{
 "cells": [
  {
   "cell_type": "code",
   "execution_count": 8,
   "metadata": {},
   "outputs": [],
   "source": [
    "class Passwortmanager:\n",
    "\n",
    "    def __init__(self) -> None:\n",
    "        pass\n",
    "\n",
    "    def zeige_menu(self):\n",
    "        print(\"===================================================\")\n",
    "        print(\"                  Passwortmanager\")\n",
    "        print(\"===================================================\")\n",
    "        print(\"  1) Erstelle ein neues Passwort in der Datenbank\")\n",
    "        print(\"  2) Starte mit vorhandener Datenbank\")\n",
    "        print(\"  3) Abbrechen\")\n",
    "    \n",
    "    def lese_eingabe(self):\n",
    "        return input(\"Was möchtest du machen?\")\n",
    "    \n",
    "    "
   ]
  },
  {
   "cell_type": "code",
   "execution_count": 9,
   "metadata": {},
   "outputs": [
    {
     "name": "stdout",
     "output_type": "stream",
     "text": [
      "===================================================\n",
      "                  Passwortmanager\n",
      "===================================================\n",
      "  1) Erstelle ein neues Passwort in der Datenbank\n",
      "  2) Starte mit vorhandener Datenbank\n",
      "  3) Abbrechen\n"
     ]
    },
    {
     "data": {
      "text/plain": [
       "'3'"
      ]
     },
     "execution_count": 9,
     "metadata": {},
     "output_type": "execute_result"
    }
   ],
   "source": [
    "passwortmanager = Passwortmanager()\n",
    "passwortmanager.zeige_menu()\n",
    "passwortmanager.lese_eingabe()"
   ]
  }
 ],
 "metadata": {
  "kernelspec": {
   "display_name": "Python 3.10.8 64-bit",
   "language": "python",
   "name": "python3"
  },
  "language_info": {
   "codemirror_mode": {
    "name": "ipython",
    "version": 3
   },
   "file_extension": ".py",
   "mimetype": "text/x-python",
   "name": "python",
   "nbconvert_exporter": "python",
   "pygments_lexer": "ipython3",
   "version": "3.10.8"
  },
  "orig_nbformat": 4,
  "vscode": {
   "interpreter": {
    "hash": "b0fa6594d8f4cbf19f97940f81e996739fb7646882a419484c72d19e05852a7e"
   }
  }
 },
 "nbformat": 4,
 "nbformat_minor": 2
}
