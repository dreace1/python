{
 "cells": [
  {
   "cell_type": "markdown",
   "id": "56427aac",
   "metadata": {},
   "source": [
    "#  Übungsblatt 01 -  Auswahlstruktur"
   ]
  },
  {
   "cell_type": "code",
   "execution_count": null,
   "id": "d16c6f6f",
   "metadata": {},
   "outputs": [],
   "source": []
  },
  {
   "cell_type": "markdown",
   "id": "414df4e3",
   "metadata": {},
   "source": [
    "### Aufgabe 1: Hardware-Großhändler  \n",
    "\n",
    "Ein Hardware-Großhändler möchte den Rechnungsbetrag einer Bestellung für PC-Mäuse mit einem Programm ermitteln. Wenn der Kunde mindestens 10 Mäuse bestellt, erfolgt die Lieferung frei Haus, bei einer geringeren Bestellmenge wird eine feste Lieferpauschale von 10 Euro erhoben. Vom Großhändler werden die Anzahl der bestellten Mäuse und der Einzelpreis eingegeben. Das Programm soll den Rechnungsbetrag (incl. MwSt.) ausgeben.\n"
   ]
  },
  {
   "cell_type": "code",
   "execution_count": 44,
   "id": "d57671eb",
   "metadata": {},
   "outputs": [
    {
     "name": "stdout",
     "output_type": "stream",
     "text": [
      "Gesamtpreis 132.09€\n"
     ]
    }
   ],
   "source": [
    "order_quantity = int(input(\"Bitte geben Sie die Menge ein: \"))\n",
    "price = float(input(\"Bitte geben Sie den Preis ein\"))\n",
    "\n",
    "subtotal = order_quantity*price\n",
    "\n",
    "if(order_quantity < 10):\n",
    "    subtotal+= 10\n",
    "\n",
    "subtotal *= 1.19\n",
    "\n",
    "print(\"Gesamtpreis {:.2f}€\".format(subtotal))"
   ]
  },
  {
   "cell_type": "markdown",
   "id": "63d76b50",
   "metadata": {},
   "source": [
    "### Aufgabe 2: Rabattsystem   \n",
    "\n",
    "Der Hardware-Großhändler führt ein Rabattsystem ein: Liegt der Bestellwert zwischen 0 und 100 €, erhält der Kunde einen Rabatt von 10 %. Liegt der Bestellwert höher, aber insgesamt nicht über 500 €, beträgt der Rabatt 15 %, in allen anderen Fällen beträgt der Rabatt 20 %. Nach Eingabe des Bestellwertes soll der ermäßigte Bestellwert (incl. MwSt.) berechnet und ausgegeben werden.\n"
   ]
  },
  {
   "cell_type": "code",
   "execution_count": 45,
   "id": "fd09a8f1",
   "metadata": {},
   "outputs": [
    {
     "name": "stdout",
     "output_type": "stream",
     "text": [
      "Gesamtpreis 112.28€\n"
     ]
    }
   ],
   "source": [
    "if(subtotal <= 100):\n",
    "    rabatt = subtotal*0.10\n",
    "elif(subtotal <= 500):\n",
    "    rabatt = subtotal*0.15\n",
    "else:\n",
    "    rabatt = subtotal*0.20\n",
    "\n",
    "subtotal -= rabatt\n",
    "\n",
    "print(\"Gesamtpreis {:.2f}€\".format(subtotal))"
   ]
  },
  {
   "cell_type": "markdown",
   "id": "efb609fe",
   "metadata": {},
   "source": [
    "### Aufgabe 3: BMI   \n",
    "\n",
    "BMI (Body Mass Index): Der BMI berechnet sich aus dem Körpergewicht [kg] dividiert durch das Quadrat der Körpergröße [m2]. \n",
    "Die Formel lautet: BMI = (Körpergewicht in kg): (Körpergröße in m)2. \n",
    "Dies bedeutet, eine Person mit einer Körpergröße von 160 cm und einem Körpergewicht von 60 kg hat einen BMI von 23,4 [60: 2,56 = 23,4]. Der BMI einer Person wird nach folgenden Regeln klassifiziert:  \n",
    "\n",
    "\n",
    "Klassifikation\tm\tw\n",
    "Untergewicht\t<20\t<19\n",
    "Normalgewicht\t20-25\t19-24\n",
    "Übergewicht\t>25\t>24\n",
    "\n",
    "Das Programm soll vom Benutzer das Gewicht [in kg] die Größe [in cm] und das Geschlecht [m/w] abfragen. Am Ende des Programms soll die BMI-Klassifikation der Person ausgegeben werden.\n",
    "\n"
   ]
  },
  {
   "cell_type": "code",
   "execution_count": null,
   "id": "8c5b3a04",
   "metadata": {},
   "outputs": [],
   "source": []
  },
  {
   "cell_type": "markdown",
   "id": "43025f10",
   "metadata": {},
   "source": [
    "### Aufgabe 4: Sortieren    \n",
    "\n",
    "Erstellen Sie die Konsolenanwendung Sortiere_abc. Das Programm Sortiere_abc soll drei Zeicheneingaben (z. B. Buchstaben, Ziffern) vom Benutzer erwarten. Anschließend soll das Programm die drei eingegebenen Zeichen in aufsteigender Reihenfolge ausgeben. \n"
   ]
  },
  {
   "cell_type": "code",
   "execution_count": null,
   "id": "765cd1f9",
   "metadata": {},
   "outputs": [],
   "source": []
  },
  {
   "cell_type": "markdown",
   "id": "71065cdb",
   "metadata": {},
   "source": [
    "### Aufgabe 5: Schaltjahr    \n",
    "\n",
    "Entwickeln Sie ein Programm, welches ausgibt, ob das eingegebene Jahr ein Schaltjahr ist. \n",
    "\n",
    "Regel 1: Ist eine Jahreszahl ganzzahlig durch 4 teilbar, dann ist das Jahr ein Schaltjahr mit 366 Tagen. \n",
    "Beispiele: 1980, 1972, 1720 waren Schaltjahre \n",
    "\n",
    "Regel 2: Ausnahme von Regel 1 sind alle Jahreszahlen, die nach Regel 1 ein Schaltjahr sind, aber deren Jahreszahl ganzzahlig durch 100 teilbar sind. \n",
    "Beispiele: 1700, 1800 und 1900 oder ferner 2100 sind keine Schaltjahre. \n",
    "\n",
    "Regel 3: Ausnahme von Regel 2 sind alle Jahreszahlen, die nach Regel 2 kein Schaltjahr sind, aber deren Jahreszahl ganzzahlig durch 400 teilbar. \n",
    "Beispiele: 1600 und 2000 waren Schaltjahre zu 366 Tagen. \n",
    "oder eine einfach zu merkende Regel: \n",
    "\n",
    "\n",
    "- Ein Schaltjahr ist alle vier Jahre (1992 und 1996 waren z.B. Schaltjahre), \n",
    "\n",
    "- alle hundert Jahre nicht (1700 und 1800 waren keine Schaltjahre), \n",
    "\n",
    "- und alle vierhundert Jahre doch (2000 war doch ein Schaltjahr), \n",
    "\n",
    "- Dummerweise wurde diese Regelung erst 1582 eingeführt, d.h. davor galt nur Regel1, \n",
    "\n",
    "- Eingeführt wurden Schaltjahre im heutigen Sinne durch Julius Cäsar 45 v. Chr. \n",
    "\n",
    "Das Programm soll vom Benutzer eine Jahreszahl abfragen. Am Ende des Programms soll ausgegeben werden, ob es sich um ein Schaltjahr handelt oder nicht.\n"
   ]
  },
  {
   "cell_type": "code",
   "execution_count": null,
   "id": "fca2ec15",
   "metadata": {},
   "outputs": [],
   "source": []
  }
 ],
 "metadata": {
  "kernelspec": {
   "display_name": "Python 3.10.6 64-bit",
   "language": "python",
   "name": "python3"
  },
  "language_info": {
   "codemirror_mode": {
    "name": "ipython",
    "version": 3
   },
   "file_extension": ".py",
   "mimetype": "text/x-python",
   "name": "python",
   "nbconvert_exporter": "python",
   "pygments_lexer": "ipython3",
   "version": "3.10.6"
  },
  "vscode": {
   "interpreter": {
    "hash": "b0fa6594d8f4cbf19f97940f81e996739fb7646882a419484c72d19e05852a7e"
   }
  }
 },
 "nbformat": 4,
 "nbformat_minor": 5
}
