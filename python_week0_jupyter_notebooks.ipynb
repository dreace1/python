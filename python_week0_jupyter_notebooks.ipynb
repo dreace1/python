{
 "cells": [
  {
   "cell_type": "markdown",
   "id": "5f1361ed",
   "metadata": {},
   "source": [
    "# Einführung: Jupyter Notebooks\n",
    "\n",
    "Wir benutzen Juypter Notebooks für die Einführung in Python. Das Juypter Project (https://jupyter.org/) entwickelt Open-Source-Software, mit der spezielle Dokumente - die sogenannten Jupyter Notebooks - erstellt werden. "
   ]
  },
  {
   "cell_type": "markdown",
   "id": "94c65c0a",
   "metadata": {},
   "source": [
    "# Jupyter Notebooks basieren auf Zellen\n",
    "Jupyter Notebooks basieren auf Zellen. Es gibt zwei Arten von Zellen, die für diesen Kurs interessant sind:\n",
    "\n",
    "- Zellen, die Text and Erklärungen beinhalten (Markdown Cells)\n",
    "- Zellen zum Programmieren (Code Cells)\n",
    "\n",
    "dieser Text, den du gerade liest, ist Teil einer Markdown Cell!\n",
    "\n",
    "## Markdown Cells\n",
    "Diese Zellen enthalten formatierten Text.\n",
    "\n",
    "## Code Cells\n",
    "Die folgende Zelle ist eine code cell. Sie enthält Python Code, der innerhalb dieses Notebooks ausgeführt werden kann."
   ]
  },
  {
   "cell_type": "code",
   "execution_count": 2,
   "id": "83bebd45",
   "metadata": {},
   "outputs": [
    {
     "name": "stdout",
     "output_type": "stream",
     "text": [
      "Hello New World\n"
     ]
    }
   ],
   "source": [
    "print(\"Hello New World\")"
   ]
  },
  {
   "cell_type": "markdown",
   "id": "b92a502b",
   "metadata": {},
   "source": [
    "## Active Cells\n",
    "Wenn du eine Zelle anklickst, wird sie aktiviert. Normalerweise gibt es eine aktive Zelle, die durch dem umlaufenden Rahmen hervorgehoben ist. Auf der linken Seite gibt es einen grünen oder blauen Balken."
   ]
  },
  {
   "cell_type": "markdown",
   "id": "1c1c985f",
   "metadata": {},
   "source": [
    "# Edit Mode und Command Mode\n",
    "Es gibt zwei verschiedenen Modi für Zellen: Edit mode und command mode. Im command-Modus sind die markdown cells (text\n",
    "cells) gut zu lesen, der Text hat ein gutes Layout. Im edit-Modus ist das Layout gewöhnungsbedürftig. Du siehst dort alle *markdown-commands* die das Layout bestimmen. Um in den edit-Modus zu gelangen, kannst du einfach einen Doppelklick auf die Zelle ausführen. Um zurück in den command-Modus zu kommen, einfach \"Run\" in der Menüleiste klicken. In diesem Kurs musst du keine Textzellen ändern. Falls du aber aus Versehen auf eine Textzelle doppelt klickst, sollst du wissen, wie es wieder zurück geht. \n",
    "Probier es aus!\n",
    "\n",
    "Wenn du in eine code cell klickst, kannst du den Code bearbeiten. Wenn du \"run\" in der Menüleiste klickst, wird der code ausgeführt. Der Output des Programms sollte direkt unter der Zelle angezeigt werden.\n",
    "Probier es aus!\n",
    "\n",
    "Außerdem ändert sich bei der Ausführung der Text links neben der Zelle: `In [ ]` ändert sich zu `In [1]`. Die `1` bedeutet die Folge der Ausführungen. Die `1` bedeutet, dies ist die erste Ausführung in diesem Notebook. Wenn du die Zelle ein zweites Mal ausführst, wird die `1` geändert zu `2`. Das ist für später interessant.\n",
    "\n",
    "# Menüleiste: The Menu Bar\n",
    "Die Menüleiste steht ganz oben und ist eigentlich selbsterklärend. Nur eine kurze Erklärung zum `Kernel` -Menü: Hier werden Befehle angeboten zur Steuerung der Verbindung des Notebooks im Browser und dem Jupyter-Server im Hintergrund.\n",
    "Falls einmal eine Zelle oder das Notebook \"hängt\", kann der Kernel neu gestartet werden. mit dem Befehl `Restart & Clear Output` werden die ausführungen alles Code-Zellen zurückgesetzt. \n",
    "Probier es aus!"
   ]
  },
  {
   "cell_type": "markdown",
   "id": "873d9eb5",
   "metadata": {},
   "source": [
    "# Mehr über Jupyter Notebooks\n",
    "Das war die kurze Einführung. Wenn du mehr wissen willst ... hier https://docs.jupyter.org/en/latest/ . "
   ]
  },
  {
   "cell_type": "code",
   "execution_count": 1,
   "id": "2f90084d",
   "metadata": {},
   "outputs": [
    {
     "name": "stdout",
     "output_type": "stream",
     "text": [
      "Hallo Leon\n"
     ]
    }
   ],
   "source": [
    "print(\"Hallo Leon\")"
   ]
  }
 ],
 "metadata": {
  "kernelspec": {
   "display_name": "Python 3.10.6 64-bit",
   "language": "python",
   "name": "python3"
  },
  "language_info": {
   "codemirror_mode": {
    "name": "ipython",
    "version": 3
   },
   "file_extension": ".py",
   "mimetype": "text/x-python",
   "name": "python",
   "nbconvert_exporter": "python",
   "pygments_lexer": "ipython3",
   "version": "3.10.6"
  },
  "vscode": {
   "interpreter": {
    "hash": "b0fa6594d8f4cbf19f97940f81e996739fb7646882a419484c72d19e05852a7e"
   }
  }
 },
 "nbformat": 4,
 "nbformat_minor": 5
}
